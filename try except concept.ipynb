{
 "cells": [
  {
   "cell_type": "markdown",
   "id": "1d40ab51-9e05-40c0-b112-a64c25d628f5",
   "metadata": {},
   "source": [
    "# <h1 style=\"color:red\"> TRY AND EXCEPT CONCEPT in python</h>\n",
    "  ###  <h1 style=\"color:blue\"> by ABID ALI </h1>"
   ]
  },
  {
   "cell_type": "code",
   "execution_count": 1,
   "id": "2622205a-1930-4ff0-a216-e60a6abe4cbb",
   "metadata": {},
   "outputs": [
    {
     "name": "stdout",
     "output_type": "stream",
     "text": [
      "10\n"
     ]
    }
   ],
   "source": [
    " def add_num(a,b):\n",
    "     print(a+b)\n",
    "add_num(5,5)"
   ]
  },
  {
   "cell_type": "code",
   "execution_count": 20,
   "id": "780be348-4da8-464e-9614-272008ffd4e6",
   "metadata": {},
   "outputs": [
    {
     "name": "stdout",
     "output_type": "stream",
     "text": [
      "10\n",
      "if try can not actch mistake you should catch except bro\n"
     ]
    }
   ],
   "source": [
    "def add_num(a,b):\n",
    "    try:\n",
    "        print(a+b)\n",
    "    except TypeError:\n",
    "        print(\"if try can not actch mistake you should catch except bro\")\n",
    "add_num(3,7)\n",
    "add_num(3, 'hello')"
   ]
  },
  {
   "cell_type": "code",
   "execution_count": 22,
   "id": "cd2ec799-b5ce-4d0b-8aa2-7c5f694e8d57",
   "metadata": {},
   "outputs": [
    {
     "name": "stdout",
     "output_type": "stream",
     "text": [
      "10\n"
     ]
    }
   ],
   "source": [
    "def add_num(a,b):\n",
    "    try:\n",
    "        print(a+b)\n",
    "    except TypeError:\n",
    "        print(\"if try can not actch mistake you should catch except bro\")\n",
    "add_num(3,7)\n",
    "#add_num(3, 'hello')                                              # one function call if cll no problem only show except will be hidden"
   ]
  },
  {
   "cell_type": "code",
   "execution_count": null,
   "id": "e7634704-8d7b-4a86-a746-036b2d96db3a",
   "metadata": {},
   "outputs": [],
   "source": []
  }
 ],
 "metadata": {
  "kernelspec": {
   "display_name": "Python 3 (ipykernel)",
   "language": "python",
   "name": "python3"
  },
  "language_info": {
   "codemirror_mode": {
    "name": "ipython",
    "version": 3
   },
   "file_extension": ".py",
   "mimetype": "text/x-python",
   "name": "python",
   "nbconvert_exporter": "python",
   "pygments_lexer": "ipython3",
   "version": "3.13.2"
  }
 },
 "nbformat": 4,
 "nbformat_minor": 5
}
